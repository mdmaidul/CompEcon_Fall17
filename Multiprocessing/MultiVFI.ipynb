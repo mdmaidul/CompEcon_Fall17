{
 "cells": [
  {
   "cell_type": "markdown",
   "metadata": {},
   "source": [
    "# Multiprocessing in Python: Dynamic Programming Application\n",
    "### by [Jason DeBacker](http://jasondebacker.com), December 2017\n",
    "This Jupyter Notebook solves the optimal investment problem of the firm using VFI -- with a speed boost by using the `multiprocessing` package to paralleize the solution algorithm.\n"
   ]
  },
  {
   "cell_type": "markdown",
   "metadata": {},
   "source": [
    "## 1. Overview of the Theory\n",
    "The firm's optimization problem can be written as:\n",
    "\n",
    "$$ V(z,k) = max_{k'} \\pi(z,k) - p^{k}(k'-(1-\\delta)k) - c(k',k) + \\beta V(z',k') $$\n",
    "\n",
    "We going to assume that $z$ is deterministic and stationary.  Thus we'll set $z=1$ for all time and drop it from our vector of state variables.  In addition, assume that the price of new capital is equal to one; $p^{k}=1$.  Rewriting the problem we have:\n",
    "\n",
    "$$ V(k) = max_{k'} \\pi(k) - (k'-(1-\\delta)k) - c(k',k) + \\beta V(k') \\ \\ (1) $$ \n",
    "\n",
    "We need to solve for $V(k)$ and the policy function, $k'=h(k)$.  To do this, we are going to use the recursive nature of the problem.  In particular, we are going to use a fixed point algorithm and the fact that the value funciton, $V(\\cdot)$ appears on both sides of the equation above.\n",
    "\n",
    "In particular, we are going to look for the fixed point for the mapping $T(V(k))$ defined as \n",
    "\n",
    "$$ T(V(k)) = max_{k'} \\pi(k) - (k'-(1-\\delta)k) - c(k',k) + \\beta V(k') $$\n",
    "\n",
    "Here, $V(k)$ represents a proposed solution to the Equation (1) above.  If $T(V(k))=V(k)$ then $V(k)$ *is* the solution to (1).  Value function iteration uses this mapping to find the solution.  Under certain assumptions, it is shown that such a solution exists, is unique, and can be found by iterating on any initial proposed value function.  See Stokey, Lucas, and Prescott (1989, pp. 49-55) for details on the necessary conditions for the existence and uniqueness of a solution.  Suffice it to say, those conditions are met in the problem as parameterized below.\n",
    "\n",
    "The approach we'll take, then, is to guess an initial value function, $V_{0}(k)$ and then iterate on this guess with the operators $T(v(k))$ so that we have:\n",
    "\n",
    "$$ V_{i+1}(k) = max_{k'} \\pi(k) - (k'-(1-\\delta)k) - c(k',k) + \\beta V_{i}(k') $$\n",
    "\n",
    "Where $i$ denotes the iteration.  These iterations will continue until $V_{i+1}(k)=V_{i}(k)$, i.e., when we've found the fixed point.  This fixed point will be the solution to our problem, $V(k)=V_{i}(k)$.  With this found, we can then find the policy function, $h(k)$ that corresponds to this value function.\n",
    "\n",
    "## 2. Setting things up."
   ]
  },
  {
   "cell_type": "code",
   "execution_count": 4,
   "metadata": {
    "collapsed": true
   },
   "outputs": [],
   "source": [
    "# Import packages\n",
    "import numpy as np\n",
    "import matplotlib.pyplot as plt\n",
    "import time\n",
    "\n",
    "# to print plots inline\n",
    "%matplotlib inline"
   ]
  },
  {
   "cell_type": "markdown",
   "metadata": {},
   "source": [
    "### 2.1 Parameterization\n",
    "To solve a numerical problem, we need to set values to the parameters.  We also need to specify the adjustment cost function.  Adjustment costs will be assumed to be quadratic:\n",
    "\n",
    "$$ c(k',k) = \\frac{\\psi}{2}\\left(\\frac{k'-(1-\\delta)k}{k}\\right)^{2}k $$\n",
    "\n",
    "Operating profits are given by $zk^{\\alpha_{k}}$\n",
    "\n",
    "Or, noting that $z=1$ in the deterministic model we're studying here:\n",
    "\n",
    "$$ \\pi(k)=k^{\\alpha_{k}} $$\n",
    "\n",
    "We then choose the following parameterization:\n",
    "\n",
    "| Paramter | Description   | Value|\n",
    "|------|------||------|\n",
    "    | $\\alpha_{k}$ | Capital's share of output | 0.6 |\n",
    "   | $\\delta$ | Depreciation rate | 0.154 |\n",
    "   | $\\psi$ | Coefficient on quadratic adjustment costs | 1.080 |\n",
    "   | $r$   | Interest rate | 0.040 |\n",
    "   | $z$   | Productivity | 1.000 |\n",
    "\n"
   ]
  },
  {
   "cell_type": "code",
   "execution_count": 117,
   "metadata": {
    "collapsed": true
   },
   "outputs": [],
   "source": [
    "# specify parameters\n",
    "alpha_k = 0.6\n",
    "delta = 0.154\n",
    "psi = 1.08\n",
    "r= 0.04\n",
    "z = 1"
   ]
  },
  {
   "cell_type": "markdown",
   "metadata": {},
   "source": [
    "To determine the discount rate of the firm, we have:\n",
    "\n"
   ]
  },
  {
   "cell_type": "code",
   "execution_count": 116,
   "metadata": {
    "collapsed": true
   },
   "outputs": [],
   "source": [
    "betafirm = (1 / (1 + r))"
   ]
  },
  {
   "cell_type": "markdown",
   "metadata": {},
   "source": [
    "### 2.2 Discretizing the state space for capital"
   ]
  },
  {
   "cell_type": "code",
   "execution_count": 133,
   "metadata": {
    "collapsed": true
   },
   "outputs": [],
   "source": [
    "dens = 12\n",
    "# put in bounds here for the capital stock space\n",
    "kbar = 24\n",
    "lb_k = 0.001\n",
    "ub_k = kbar\n",
    "krat = np.log(lb_k / ub_k)\n",
    "numb = np.ceil(krat / np.log(1 - delta))\n",
    "K = np.zeros(int(numb * dens))\n",
    "# we'll create in a way where we pin down the upper bound - since\n",
    "# the distance will be small near the lower bound, we'll miss that by little\n",
    "for j in range(int(numb * dens)):\n",
    "    K[j] = ub_k * (1 - delta) ** (j / dens)\n",
    "kgrid = K[::-1]\n",
    "sizek = kgrid.shape[0]"
   ]
  },
  {
   "cell_type": "markdown",
   "metadata": {},
   "source": [
    "### 2.3 Grid of per period flows\n",
    "\n",
    "In order to evaluate our value functions, we will need to know the per period flows to the firm.  These are given by operating profits, $\\pi(k)$, less investment expenses plus adjustment costs, $I + c(k',k)$.\n",
    "\n",
    "As noted above, operating profits (with $z=1$) are given by:\n",
    "\n",
    "$$\n",
    "\\pi(k) =k^{\\alpha_{k}}\n",
    "$$\n",
    "Per period flows are then:\n",
    "\n",
    "$$ e(k,k') = \\pi(k) - (k'-(1-\\delta)k) - \\frac{\\psi}{2}\\left(\\frac{k'-(1-\\delta)k}{k}\\right)^{2}k $$"
   ]
  },
  {
   "cell_type": "code",
   "execution_count": 134,
   "metadata": {
    "collapsed": true
   },
   "outputs": [],
   "source": [
    "# operating profits, op\n",
    "op = ((1 - alpha_l) * ((alpha_l / w) ** (alpha_l / (1 - alpha_l))) *\n",
    "      ((kgrid ** alpha_k) ** (1 / (1 - alpha_l))))\n",
    "\n",
    "# firm cash flow, e\n",
    "e = np.zeros((sizek, sizek))\n",
    "for i in range(sizek):\n",
    "    for j in range(sizek):\n",
    "            e[i, j] = (op[i] - kgrid[j] + ((1 - delta) * kgrid[i]) -\n",
    "                       ((psi / 2) * ((kgrid[j] - ((1 - delta) * kgrid[i])) ** 2)\n",
    "                        / kgrid[i]))"
   ]
  },
  {
   "cell_type": "markdown",
   "metadata": {},
   "source": [
    "## 3. Value Function Iteration\n",
    "\n",
    "We've now determined all the fundamental objects we need to do value function iteration over a discete grid.  There are a few more objects we need to create that determine when convergence has been reached and to ensure that our `while` loops end.  We'll also want to intialize arrays that will be populated in our VFI.  \n",
    "\n",
    "Note that any initial guess at the value function $V_{0}$ will work.  But closer guesses will mean less iterations until convergence.  Here, we just guess a vector of zeros.  We know it's not the solution, but it gives us a starting point."
   ]
  },
  {
   "cell_type": "code",
   "execution_count": 135,
   "metadata": {
    "collapsed": true
   },
   "outputs": [],
   "source": [
    "VFtol = 1e-6\n",
    "VFmaxiter = 3000\n",
    "VFdist = 7.0\n",
    "V = np.zeros(sizek)  # initial guess at value function\n",
    "Vmat = np.zeros((sizek, sizek))  # initialize Vmat matrix\n",
    "Vstore = np.zeros((sizek, VFmaxiter))  # initialize Vstore array\n",
    "VFiter = 1"
   ]
  },
  {
   "cell_type": "markdown",
   "metadata": {},
   "source": [
    "### 3.1 Useful VFI functions\n",
    "\n",
    "To interpolate the value function at each iteration of the  VFI solution method, it'll be helpful to define a few functions that we can call during the solution method.  Let's define functions for operating profits, adjustment costs, and firm cash flows."
   ]
  },
  {
   "cell_type": "code",
   "execution_count": 136,
   "metadata": {
    "collapsed": true
   },
   "outputs": [],
   "source": [
    "def op_profits(k, params):\n",
    "    \"\"\"\n",
    "    Operating profits function\n",
    "    \"\"\"\n",
    "    alpha_k = params\n",
    "    op = k ** alpha_k\n",
    "    \n",
    "    return op\n",
    "\n",
    "            \n",
    "def adj_cost(k, kprime, params):\n",
    "    \"\"\"\n",
    "    Adjustment cost function\n",
    "    \"\"\"\n",
    "    psi, delta = params\n",
    "    cost = (psi / 2) * ((kprime - (1 - delta) * k) ** 2) / k\n",
    "    \n",
    "    return cost\n",
    "\n",
    "\n",
    "def cash_flow(k, kprime, params):\n",
    "    \"\"\"\n",
    "    Cash flow function\n",
    "    \"\"\"\n",
    "    alpha_k, psi, delta = params\n",
    "    op_params = (alpha_k)\n",
    "    cost_params = (psi, delta)\n",
    "    e = op_profits(k, op_params) - kprime + (1 - delta) * k - adj_cost(k, kprime, cost_params)\n",
    "    \n",
    "    return e"
   ]
  },
  {
   "cell_type": "markdown",
   "metadata": {},
   "source": [
    "Next, we'll define a function for the Bellman operator itself: $V_{i+1} = T(V_{i})$.  We are using a funciton for this now since we are doing more than just applyin the $max$ operator at each step, we are now interpolating the value function and choosing the optimal $k'$ using the interpolation of $V(k')$.  "
   ]
  },
  {
   "cell_type": "code",
   "execution_count": 137,
   "metadata": {
    "collapsed": true
   },
   "outputs": [],
   "source": [
    "# write Bellman operator function to help with VFI\n",
    "from scipy.optimize import fminbound\n",
    "\n",
    "def bellman_operator(V, kgrid, params):\n",
    "    \"\"\"\n",
    "    The approximate Bellman operator, which computes and returns the\n",
    "    updated value function TV on the grid points.  An array to store\n",
    "    the new set of values TV is optionally supplied (to avoid having to\n",
    "    allocate new arrays at each iteration).  If supplied, any existing data in \n",
    "    Tw will be overwritten.\n",
    "    \"\"\"\n",
    "    betafirm, alpha_k, psi, delta = params\n",
    "    e_params = (alpha_k, psi, delta)\n",
    "    \n",
    "    # Apply linear interpolation to V\n",
    "    V_func = lambda x: np.interp(x, kgrid, V)\n",
    "\n",
    "    # Initialize array for operator and policy function\n",
    "    TV = np.empty_like(V)\n",
    "    optK = np.empty_like(TV)\n",
    "\n",
    "    # == set TV[i] = max_k' { e(k,k') + beta V(k')} == #\n",
    "    for i, k in enumerate(kgrid):\n",
    "        def objective(kprime):\n",
    "            return - cash_flow(k, kprime, e_params) - betafirm * V_func(kprime)\n",
    "        kprime_star = fminbound(objective, 1e-10, kgrid[-1])\n",
    "        optK[i] = kprime_star\n",
    "        TV[i] = - objective(kprime_star)\n",
    "\n",
    "    return TV, optK"
   ]
  },
  {
   "cell_type": "markdown",
   "metadata": {},
   "source": [
    "## 3.2 Solving the firm's problem with VFI\n",
    "Finally, we'll write our VFI \"while\" loop.  This loop will call the Bellman operator at each iteration until convergence."
   ]
  },
  {
   "cell_type": "code",
   "execution_count": 138,
   "metadata": {},
   "outputs": [
    {
     "name": "stdout",
     "output_type": "stream",
     "text": [
      "Value function converged after this many iterations: 373\n",
      "VFI took  190.29308104515076  seconds to solve\n"
     ]
    }
   ],
   "source": [
    "# Reset distance, etc\n",
    "VFdist = 7.0\n",
    "V = np.zeros(sizek)  # initial guess at value function\n",
    "Vmat = np.zeros((sizek, sizek))  # initialize Vmat matrix\n",
    "Vstore = np.zeros((sizek, VFmaxiter))  # initialize Vstore array\n",
    "VFiter = 1\n",
    "\n",
    "# Now solve VFI using bellman operator function (and thus interpolation)\n",
    "V_params = (betafirm, alpha_k, psi, delta)\n",
    "start_time = time.time()\n",
    "while VFdist > VFtol and VFiter < VFmaxiter:\n",
    "    Vstore[:, VFiter] = V\n",
    "    TV, optK_serial = bellman_operator(V, kgrid, V_params)\n",
    "    VFdist = (np.absolute(V - TV)).max()  # check distance between value\n",
    "    # function for this iteration and value function from past iteration\n",
    "    V = TV\n",
    "    VFiter += 1\n",
    "\n",
    "VFI_time = time.time() - start_time\n",
    "if VFiter < VFmaxiter:\n",
    "    print('Value function converged after this many iterations:', VFiter)\n",
    "else:\n",
    "    print('Value function did not converge')\n",
    "print('VFI took ', VFI_time, ' seconds to solve')\n",
    "\n",
    "\n",
    "VF_serial = V  # solution to the functional equation"
   ]
  },
  {
   "cell_type": "markdown",
   "metadata": {},
   "source": [
    "## 4.  Using parallelization to speed up the solution\n",
    "\n",
    "Now let's consider using parallelization to speed up the solution.  To do this, let's rewrite the Bellman operator function to take advantage of Python's multiprocessing library:"
   ]
  },
  {
   "cell_type": "code",
   "execution_count": 139,
   "metadata": {},
   "outputs": [],
   "source": [
    "import multiprocessing\n",
    "    \n",
    "# Apply linear interpolation to V\n",
    "V_func = lambda x: np.interp(x, kgrid, V)\n",
    "    \n",
    "# Define objective function\n",
    "def objective(kprime, k, e_params, betafirm):\n",
    "        return - cash_flow(k, kprime, e_params) - betafirm * V_func(kprime)\n",
    "\n",
    "# == set TV = max_k' { e(k,k') + beta V(k')} == #\n",
    "def TV_func(k, e_params, betafirm):\n",
    "    kprime_star = fminbound(objective, 1e-10, kgrid[-1], args=(k, e_params, betafirm))\n",
    "    optK_val = kprime_star\n",
    "    TV_val = - objective(kprime_star, k, e_params, betafirm)\n",
    "    return TV_val, optK_val\n",
    "\n",
    "def bellman_operator_mp(V, kgrid, params):\n",
    "    \"\"\"\n",
    "    The approximate Bellman operator, which computes and returns the\n",
    "    updated value function TV on the grid points.  An array to store\n",
    "    the new set of values TV is optionally supplied (to avoid having to\n",
    "    allocate new arrays at each iteration).  If supplied, any existing data in \n",
    "    Tw will be overwritten.\n",
    "    \"\"\"\n",
    "    betafirm, alpha_k, psi, delta = params\n",
    "    e_params = (alpha_k, psi, delta)\n",
    "    \n",
    "    # Initialize array for operator and policy function\n",
    "    TV = np.empty_like(V)\n",
    "    optK = np.empty_like(TV)\n",
    "    \n",
    "    results = {}\n",
    "    pool = multiprocessing.Pool()\n",
    "    for i, k in enumerate(kgrid):\n",
    "        results[i] = pool.apply_async(TV_func, args=(k, e_params, betafirm))\n",
    "    pool.close()\n",
    "    pool.join()\n",
    "    for i, result in results.items():\n",
    "        TV[i], optK[i] = result.get()\n",
    " \n",
    "    return TV, optK"
   ]
  },
  {
   "cell_type": "markdown",
   "metadata": {},
   "source": [
    "Now we'll paste our VFI loop code below, but call the new Bellman operator function that uses multiprocessing."
   ]
  },
  {
   "cell_type": "code",
   "execution_count": 130,
   "metadata": {},
   "outputs": [
    {
     "name": "stdout",
     "output_type": "stream",
     "text": [
      "Value function converged after this many iterations: 373\n",
      "VFI took  151.5178279876709  seconds to solve\n"
     ]
    }
   ],
   "source": [
    "# Reset distance, etc\n",
    "VFdist = 7.0\n",
    "VFmaxiter = 1000\n",
    "V = np.zeros(sizek)  # initial guess at value function\n",
    "Vmat = np.zeros((sizek, sizek))  # initialize Vmat matrix\n",
    "Vstore = np.zeros((sizek, VFmaxiter))  # initialize Vstore array\n",
    "VFiter = 1\n",
    "\n",
    "# Now solve VFI using bellman operator function (and thus interpolation)\n",
    "V_params = (betafirm, alpha_k, psi, delta)\n",
    "start_time = time.time()\n",
    "while VFdist > VFtol and VFiter < VFmaxiter:\n",
    "    Vstore[:, VFiter] = V\n",
    "    TV, optK_parallel = bellman_operator_mp(V, kgrid, V_params)\n",
    "    VFdist = (np.absolute(V - TV)).max()  # check distance between value\n",
    "    # function for this iteration and value function from past iteration\n",
    "    V = TV\n",
    "    VFiter += 1\n",
    "\n",
    "VFI_time = time.time() - start_time\n",
    "if VFiter < VFmaxiter:\n",
    "    print('Value function converged after this many iterations:', VFiter)\n",
    "else:\n",
    "    print('Value function did not converge')\n",
    "print('VFI took ', VFI_time, ' seconds to solve')\n",
    "\n",
    "\n",
    "VF_parallel = V  # solution to the functional equation"
   ]
  },
  {
   "cell_type": "markdown",
   "metadata": {},
   "source": [
    "## 5. Compare output!\n",
    "\n",
    "\n",
    "## 5.1 Plotting the value functions."
   ]
  },
  {
   "cell_type": "code",
   "execution_count": 131,
   "metadata": {},
   "outputs": [
    {
     "data": {
      "text/plain": [
       "Text(0.5,1,'Value Function - deterministic firm w/ adjustment costs')"
      ]
     },
     "execution_count": 131,
     "metadata": {},
     "output_type": "execute_result"
    },
    {
     "data": {
      "image/png": "[encoded data removed]",
      "text/plain": [
       "<matplotlib.figure.Figure at 0x1076096d8>"
      ]
     },
     "metadata": {},
     "output_type": "display_data"
    }
   ],
   "source": [
    "plt.plot(kgrid, VF_serial)\n",
    "plt.plot(kgrid, VF_parallel)\n",
    "plt.xlabel('Size of Capital Stock')\n",
    "plt.ylabel('Value Function')\n",
    "plt.title('Value Function - deterministic firm w/ adjustment costs')"
   ]
  },
  {
   "cell_type": "markdown",
   "metadata": {},
   "source": [
    "## 5.2 Plot the policy functions\n",
    "\n",
    "Here we'll plot investment policy function as a rate, $\\frac{I}{k}$."
   ]
  },
  {
   "cell_type": "code",
   "execution_count": 132,
   "metadata": {},
   "outputs": [
    {
     "data": {
      "text/plain": [
       "Text(0.5,1,'Policy Function, Next Period Capoital - deterministic firm w/ adjustment costs')"
      ]
     },
     "execution_count": 132,
     "metadata": {},
     "output_type": "execute_result"
    },
    {
     "data": {
      "image/png": "[encoded data removed]",
      "text/plain": [
       "<matplotlib.figure.Figure at 0x105727748>"
      ]
     },
     "metadata": {},
     "output_type": "display_data"
    }
   ],
   "source": [
    "# Plot optimal capital stock rule as a function of firm size\n",
    "fig, ax = plt.subplots()\n",
    "ax.plot(kgrid, optK_serial, '--', label='PF - serial')\n",
    "ax.plot(kgrid, optK_serial, '--', label='PF - parallel')\n",
    "ax.plot(kgrid, kgrid, ':', label='45 degree line')\n",
    "# Now add the legend with some customizations.\n",
    "legend = ax.legend(loc='upper left', shadow=False)\n",
    "# Set the fontsize\n",
    "for label in legend.get_texts():\n",
    "    label.set_fontsize('large')\n",
    "for label in legend.get_lines():\n",
    "    label.set_linewidth(1.5)  # the legend line width\n",
    "plt.xlabel('Size of Capital Stock')\n",
    "plt.ylabel('Optimal Choice of Capital Next Period')\n",
    "plt.title('Policy Function, Next Period Capoital - deterministic firm w/ ' +\n",
    "          'adjustment costs')"
   ]
  },
  {
   "cell_type": "markdown",
   "metadata": {},
   "source": [
    "## 7. References\n",
    "* Stokey, Nancy L. and Robert E. Lucas and Edward C. Prescott, *Recursive Methods in Economic Dynamics*, Harvard University Press (1989)."
   ]
  },
  {
   "cell_type": "code",
   "execution_count": null,
   "metadata": {
    "collapsed": true
   },
   "outputs": [],
   "source": []
  }
 ],
 "metadata": {
  "kernelspec": {
   "display_name": "Python 3",
   "language": "python",
   "name": "python3"
  },
  "language_info": {
   "codemirror_mode": {
    "name": "ipython",
    "version": 3
   },
   "file_extension": ".py",
   "mimetype": "text/x-python",
   "name": "python",
   "nbconvert_exporter": "python",
   "pygments_lexer": "ipython3",
   "version": "3.6.3"
  }
 },
 "nbformat": 4,
 "nbformat_minor": 2
}
